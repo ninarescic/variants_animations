{
 "cells": [
  {
   "cell_type": "code",
   "execution_count": 2,
   "metadata": {},
   "outputs": [],
   "source": [
    "import pandas as pd\n",
    "import numpy as np\n",
    "from datetime import datetime\n",
    "import requests\n",
    "import json \n",
    "import matplotlib.pyplot as plt\n",
    "import os\n",
    "\n",
    "from scipy.ndimage import gaussian_filter1d\n",
    "\n",
    "import us "
   ]
  },
  {
   "cell_type": "markdown",
   "metadata": {},
   "source": [
    "## World data\n",
    "\n",
    "This is part of the code that gathers data in strains for world countries."
   ]
  },
  {
   "cell_type": "code",
   "execution_count": 3,
   "metadata": {},
   "outputs": [],
   "source": [
    "# Main source for the training data\n",
    "DATA_URL = 'https://raw.githubusercontent.com/OxCGRT/covid-policy-tracker/master/data/OxCGRT_latest.csv'\n",
    "# Local file\n",
    "DATA_FILE = 'csv_files/OxCGRT_latest.csv'\n",
    "\n",
    "oxford_data = pd.read_csv(DATA_FILE, \n",
    "                 parse_dates=['Date'],\n",
    "                 encoding=\"ISO-8859-1\",\n",
    "                 dtype={\"RegionName\": str,\n",
    "                        \"RegionCode\": str},\n",
    "                 error_bad_lines=False)\n"
   ]
  },
  {
   "cell_type": "code",
   "execution_count": 4,
   "metadata": {},
   "outputs": [],
   "source": [
    "population_df = pd.read_csv(\"csv_files/population_unique.csv\")"
   ]
  },
  {
   "cell_type": "code",
   "execution_count": 5,
   "metadata": {},
   "outputs": [],
   "source": [
    "CSV_FOLDER = 'csv_files'\n",
    "if not os.path.exists(CSV_FOLDER):\n",
    "    os.makedirs(CSV_FOLDER)"
   ]
  },
  {
   "cell_type": "code",
   "execution_count": 6,
   "metadata": {},
   "outputs": [],
   "source": [
    "today = datetime.today().strftime('%Y-%m-%d')"
   ]
  },
  {
   "cell_type": "code",
   "execution_count": 1,
   "metadata": {
    "scrolled": false
   },
   "outputs": [
    {
     "ename": "NameError",
     "evalue": "name 'today' is not defined",
     "output_type": "error",
     "traceback": [
      "\u001b[1;31m---------------------------------------------------------------------------\u001b[0m",
      "\u001b[1;31mNameError\u001b[0m                                 Traceback (most recent call last)",
      "\u001b[1;32m<ipython-input-1-a516f82956df>\u001b[0m in \u001b[0;36m<module>\u001b[1;34m\u001b[0m\n\u001b[1;32m----> 1\u001b[1;33m \u001b[1;32mdef\u001b[0m \u001b[0mget_strains_world\u001b[0m\u001b[1;33m(\u001b[0m\u001b[0mstart_date\u001b[0m \u001b[1;33m=\u001b[0m \u001b[1;34m'2020-01-01'\u001b[0m\u001b[1;33m,\u001b[0m \u001b[0mend_day\u001b[0m \u001b[1;33m=\u001b[0m \u001b[0mtoday\u001b[0m\u001b[1;33m)\u001b[0m\u001b[1;33m:\u001b[0m\u001b[1;33m\u001b[0m\u001b[1;33m\u001b[0m\u001b[0m\n\u001b[0m\u001b[0;32m      2\u001b[0m \u001b[1;33m\u001b[0m\u001b[0m\n\u001b[0;32m      3\u001b[0m     \u001b[0mnew_strains_df\u001b[0m \u001b[1;33m=\u001b[0m \u001b[0mpd\u001b[0m\u001b[1;33m.\u001b[0m\u001b[0mDataFrame\u001b[0m\u001b[1;33m(\u001b[0m\u001b[1;33m)\u001b[0m\u001b[1;33m\u001b[0m\u001b[1;33m\u001b[0m\u001b[0m\n\u001b[0;32m      4\u001b[0m \u001b[1;33m\u001b[0m\u001b[0m\n\u001b[0;32m      5\u001b[0m     \u001b[0mdates\u001b[0m \u001b[1;33m=\u001b[0m \u001b[0mpd\u001b[0m\u001b[1;33m.\u001b[0m\u001b[0mdate_range\u001b[0m\u001b[1;33m(\u001b[0m\u001b[0mstart\u001b[0m\u001b[1;33m=\u001b[0m\u001b[0mstart_date\u001b[0m\u001b[1;33m,\u001b[0m\u001b[0mend\u001b[0m\u001b[1;33m=\u001b[0m\u001b[0mend_day\u001b[0m\u001b[1;33m)\u001b[0m\u001b[1;33m\u001b[0m\u001b[1;33m\u001b[0m\u001b[0m\n",
      "\u001b[1;31mNameError\u001b[0m: name 'today' is not defined"
     ]
    }
   ],
   "source": [
    "def get_strains_world(start_date = '2020-01-01', end_day = today):\n",
    "    \n",
    "    new_strains_df = pd.DataFrame()\n",
    "\n",
    "    dates = pd.date_range(start=start_date,end=end_day)\n",
    "    dates = pd.DataFrame({'Date':dates})\n",
    "    \n",
    "    new_strains_df = pd.DataFrame()\n",
    "    n_days = len(dates)\n",
    "\n",
    "    #Get lineages WORLD\n",
    "    for location in oxford_data.CountryCode.unique():\n",
    "        country_name = oxford_data.loc[oxford_data.CountryCode == location, 'CountryName']\n",
    "        response = requests.get(f'https://api.outbreak.info/genomics/prevalence-by-location-all-lineages?location_id={location}&ndays={n_days}').text\n",
    "        if(json.loads(response)[\"success\"]):\n",
    "            results =  json.loads(response)['results']\n",
    "            results_df = pd.DataFrame.from_dict(results)\n",
    "            location_strains_df = dates.copy()\n",
    "            population = population_df.loc[population_df.CountryCode == location,'Population'].max()\n",
    "            location_strains_df['CountryCode'] = location\n",
    "            location_strains_df['CountryName'] = country_name.iloc[0]\n",
    "            location_strains_df['Population'] = population\n",
    "            for lineage in results_df.lineage.unique():\n",
    "                df_lineage = results_df.loc[results_df.lineage == lineage]\n",
    "                new_strain = pd.DataFrame()\n",
    "                new_strain['Date'] = pd.to_datetime(df_lineage['date'])\n",
    "                new_strain[f'prevalence_rolling_{lineage}'] = df_lineage['prevalence_rolling'].fillna(0)\n",
    "                location_strains_df  = location_strains_df.merge(new_strain, how='left')\n",
    "                #print(location_strains_df)\n",
    "                location_strains_df[f'prevalence_rolling14_{lineage}'] = location_strains_df[f'prevalence_rolling_{lineage}'].fillna(0).rolling(14).mean()\n",
    "                location_strains_df[f'prevalence_gaussian5_{lineage}'] = pd.Series(gaussian_filter1d(location_strains_df[f'prevalence_rolling14_{lineage}'].fillna(0),5))\n",
    "                location_strains_df[f'prevalence_gaussian10_{lineage}'] = pd.Series(gaussian_filter1d(location_strains_df[f'prevalence_rolling14_{lineage}'].fillna(0),10))\n",
    "            new_strains_df = new_strains_df.append(location_strains_df, ignore_index=True)\n",
    "                    \n",
    "    return new_strains_df\n"
   ]
  },
  {
   "cell_type": "markdown",
   "metadata": {},
   "source": [
    "# States data"
   ]
  },
  {
   "cell_type": "code",
   "execution_count": null,
   "metadata": {},
   "outputs": [],
   "source": [
    "all_states = [x.name for x  in us.states.STATES]\n",
    "all_states_abbr = [x.abbr for x  in us.states.STATES]"
   ]
  },
  {
   "cell_type": "code",
   "execution_count": null,
   "metadata": {},
   "outputs": [],
   "source": [
    "df_states = pd.DataFrame(columns = [\"StateCode\",\"StateName\"])\n",
    "df_states[\"StateCode\"] = all_states_abbr\n",
    "df_states[\"StateName\"] = all_states"
   ]
  },
  {
   "cell_type": "code",
   "execution_count": null,
   "metadata": {},
   "outputs": [],
   "source": [
    "def get_strains_states(start_date = '2020-01-01', end_day = today):\n",
    "    \n",
    "    new_strains_df = pd.DataFrame()\n",
    "\n",
    "    dates = pd.date_range(start=start_date,end=end_day)\n",
    "    dates = pd.DataFrame({'Date':dates})\n",
    "    \n",
    "    new_strains_df = pd.DataFrame()\n",
    "    n_days = len(dates)\n",
    "\n",
    "    #Get lineages WORLD\n",
    "    for location in all_states_abbr:\n",
    "        state_name = df_states.loc[df_states.StateCode == location, 'StateName']\n",
    "        response = requests.get(f'https://api.outbreak.info/genomics/prevalence-by-location-all-lineages?location_id=USA_{location}&ndays={n_days}').text\n",
    "        if(json.loads(response)[\"success\"]):\n",
    "            #print(f'Reading data for {location}')\n",
    "            results =  json.loads(response)['results']\n",
    "            results_df = pd.DataFrame.from_dict(results)\n",
    "            location_strains_df = dates.copy()\n",
    "            location_strains_df['StateCode'] = location\n",
    "            location_strains_df['StateName'] = state_name.iloc[0]\n",
    "            for lineage in results_df.lineage.unique():\n",
    "                df_lineage = results_df.loc[results_df.lineage == lineage]\n",
    "                new_strain = pd.DataFrame()\n",
    "                new_strain['Date'] = pd.to_datetime(df_lineage['date'])\n",
    "                new_strain[f'prevalence_rolling_{lineage}'] = df_lineage['prevalence_rolling'].fillna(0)\n",
    "                location_strains_df  = location_strains_df.merge(new_strain, how='left')\n",
    "                #print(location_strains_df)\n",
    "                location_strains_df[f'prevalence_rolling14_{lineage}'] = location_strains_df[f'prevalence_rolling_{lineage}'].fillna(0).rolling(14).mean()\n",
    "                location_strains_df[f'prevalence_gaussian5_{lineage}'] = pd.Series(gaussian_filter1d(location_strains_df[f'prevalence_rolling14_{lineage}'].fillna(0),5))\n",
    "                location_strains_df[f'prevalence_gaussian10_{lineage}'] = pd.Series(gaussian_filter1d(location_strains_df[f'prevalence_rolling14_{lineage}'].fillna(0),10))\n",
    "            new_strains_df = new_strains_df.append(location_strains_df, ignore_index=True)\n",
    "                   \n",
    "    return new_strains_df\n"
   ]
  }
 ],
 "metadata": {
  "kernelspec": {
   "display_name": "Python 3",
   "language": "python",
   "name": "python3"
  },
  "language_info": {
   "codemirror_mode": {
    "name": "ipython",
    "version": 3
   },
   "file_extension": ".py",
   "mimetype": "text/x-python",
   "name": "python",
   "nbconvert_exporter": "python",
   "pygments_lexer": "ipython3",
   "version": "3.7.4"
  }
 },
 "nbformat": 4,
 "nbformat_minor": 4
}
